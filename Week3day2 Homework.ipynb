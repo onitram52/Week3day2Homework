{
 "cells": [
  {
   "cell_type": "markdown",
   "metadata": {},
   "source": [
    "# Object-Oriented-Programming (OOP)"
   ]
  },
  {
   "cell_type": "markdown",
   "metadata": {},
   "source": [
    "## Tasks Today:\n",
    "\n",
    "   \n",
    "\n",
    "1) <b>Creating a Class (Initializing/Declaring)</b> <br>\n",
    "2) <b>Using a Class (Instantiating)</b> <br>\n",
    " &nbsp;&nbsp;&nbsp;&nbsp; a) Creating One Instance <br>\n",
    " &nbsp;&nbsp;&nbsp;&nbsp; b) Creating Multiple Instances <br>\n",
    " &nbsp;&nbsp;&nbsp;&nbsp; c) In-Class Exercise #1 - Create a Class 'Car' and instantiate three different makes of cars <br>\n",
    "3) <b>The \\__init\\__() Method</b> <br>\n",
    " &nbsp;&nbsp;&nbsp;&nbsp; a) The 'self' Attribute <br>\n",
    "4) <b>Class Attributes</b> <br>\n",
    " &nbsp;&nbsp;&nbsp;&nbsp; a) Initializing Attributes <br>\n",
    " &nbsp;&nbsp;&nbsp;&nbsp; b) Setting an Attribute Outside of the \\__init\\__() Method <br>\n",
    " &nbsp;&nbsp;&nbsp;&nbsp; c) Setting Defaults for Attributes <br>\n",
    " &nbsp;&nbsp;&nbsp;&nbsp; d) Accessing Class Attributes <br>\n",
    " &nbsp;&nbsp;&nbsp;&nbsp; e) Changing Class Attributes <br>\n",
    " &nbsp;&nbsp;&nbsp;&nbsp; f) In-Class Exercise #2 - Add a color and wheels attribute to your 'Car' class <br>\n",
    "5) <b>Class Methods</b> <br>\n",
    " &nbsp;&nbsp;&nbsp;&nbsp; a) Creating <br>\n",
    " &nbsp;&nbsp;&nbsp;&nbsp; b) Calling <br>\n",
    " &nbsp;&nbsp;&nbsp;&nbsp; c) Modifying an Attribute's Value Through a Method <br>\n",
    " &nbsp;&nbsp;&nbsp;&nbsp; d) Incrementing an Attribute's Value Through a Method <br>\n",
    " &nbsp;&nbsp;&nbsp;&nbsp; e) In-Class Exercise #3 - Add a method that prints the cars color and wheel number, then call them <br>\n",
    "6) <b>Inheritance</b> <br>\n",
    " &nbsp;&nbsp;&nbsp;&nbsp; a) Syntax for Inheriting from a Parent Class <br>\n",
    " &nbsp;&nbsp;&nbsp;&nbsp; b) The \\__init\\__() Method for a Child Class (super()) <br>\n",
    " &nbsp;&nbsp;&nbsp;&nbsp; c) Defining Attributes and Methods for the Child Class <br>\n",
    " &nbsp;&nbsp;&nbsp;&nbsp; d) Method Overriding <br>\n",
    " &nbsp;&nbsp;&nbsp;&nbsp; e) In-Class Exercise #4 - Create a class 'Ford' that inherits from 'Car' class and initialize it as a Blue Ford Explorer with 4 wheels using the super() method <br>\n",
    "7) <b>Classes as Attributes</b> <br>\n",
    "8) <b>Exercises</b> <br>\n",
    " &nbsp;&nbsp;&nbsp;&nbsp; a) Exercise #1 - Turn the shopping cart program from last week into an object-oriented program <br>"
   ]
  },
  {
   "cell_type": "markdown",
   "metadata": {},
   "source": [
    "## Creating a Class (Initializing/Declaring)\n",
    "<p>When creating a class, function, or even a variable you are initializing that object. Initializing and Declaring occur at the same time in Python, whereas in lower level languages you have to declare an object before initializing it. This is the first step in the process of using a class.</p>"
   ]
  },
  {
   "cell_type": "code",
   "execution_count": 4,
   "metadata": {},
   "outputs": [],
   "source": [
    "class Car():\n",
    "    wheels = 4\n",
    "    color = 'blue'"
   ]
  },
  {
   "cell_type": "markdown",
   "metadata": {},
   "source": [
    "## Using a Class (Instantiating)\n",
    "<p>The process of creating a class is called <i>Instantiating</i>. Each time you create a variable of that type of class, it is referred to as an <i>Instance</i> of that class. This is the second step in the process of using a class.</p>"
   ]
  },
  {
   "cell_type": "markdown",
   "metadata": {},
   "source": [
    "##### Creating One Instance"
   ]
  },
  {
   "cell_type": "code",
   "execution_count": 4,
   "metadata": {},
   "outputs": [
    {
     "name": "stdout",
     "output_type": "stream",
     "text": [
      "4\n",
      "blue\n",
      "{}\n"
     ]
    }
   ],
   "source": [
    "#assigning variable to the class\n",
    "class Car():\n",
    "    wheels = 4\n",
    "    color = 'blue'\n",
    "    \n",
    "ford = Car()\n",
    "print(ford.wheels)\n",
    "print(ford.color)\n",
    "print(ford.__dict__)\n"
   ]
  },
  {
   "cell_type": "markdown",
   "metadata": {},
   "source": [
    "##### Creating Multiple Instances"
   ]
  },
  {
   "cell_type": "code",
   "execution_count": 6,
   "metadata": {},
   "outputs": [
    {
     "name": "stdout",
     "output_type": "stream",
     "text": [
      "blue\n",
      "4\n"
     ]
    }
   ],
   "source": [
    "mazda = Car()\n",
    "\n",
    "honda = Car()\n",
    "\n",
    "mclaren = Car()\n",
    "\n",
    "print(mazda.color)\n",
    "print(mclaren.wheels)"
   ]
  },
  {
   "cell_type": "markdown",
   "metadata": {},
   "source": [
    "##### In-Class Exercise #1 - Create a Class 'Car' and Instantiate three different makes of cars"
   ]
  },
  {
   "cell_type": "code",
   "execution_count": 11,
   "metadata": {},
   "outputs": [
    {
     "name": "stdout",
     "output_type": "stream",
     "text": [
      "Black\n",
      "500\n",
      "2\n"
     ]
    }
   ],
   "source": [
    "class Car():\n",
    "    goes_fast = True #constant\n",
    "    def __init__(self, wheels, color, doors, horsepower):\n",
    "        self.wheels = wheels\n",
    "        self.color = color\n",
    "        self.doors = doors\n",
    "        self.horsepower = horsepower\n",
    "\n",
    "Jeep = Car(4, \"Black\", 4, 200)\n",
    "print(Jeep.color)\n",
    "\n",
    "lambo = Car(4, \"Yellow\", 2, 500)\n",
    "print(lambo.horsepower)\n",
    "\n",
    "kawasaki = Car(2, \"Red\", 0, 300)\n",
    "print(kawasaki.wheels)"
   ]
  },
  {
   "cell_type": "markdown",
   "metadata": {},
   "source": [
    "## The \\__init\\__() Method <br>\n",
    "<p>This method is used in almost every created class, and called only once upon the creation of the class instance. This method will initialize all variables needed for the object.</p>"
   ]
  },
  {
   "cell_type": "code",
   "execution_count": 15,
   "metadata": {},
   "outputs": [
    {
     "name": "stdout",
     "output_type": "stream",
     "text": [
      "Blue\n",
      "Red\n",
      "Green\n",
      "Silver\n",
      "{'wheels': 4, 'color': 'Blue', 'doors': 4}\n"
     ]
    }
   ],
   "source": [
    "class Car():\n",
    "    def __init__(self, wheels, color, doors):\n",
    "        self.wheels = wheels\n",
    "        self.color = color\n",
    "        self.doors = doors\n",
    "        \n",
    "mazda = Car(4, \"Blue\", 4)\n",
    "print(mazda.color)\n",
    "\n",
    "mclaren = Car(4, 'Red', 2)\n",
    "honda = Car(4, \"Green\", 4)\n",
    "ford = Car(6, \"Silver\", 4)\n",
    "\n",
    "print(mclaren.color)\n",
    "print(honda.color)\n",
    "print(ford.color)\n",
    "\n",
    "print(mazda.__dict__)"
   ]
  },
  {
   "cell_type": "markdown",
   "metadata": {},
   "source": [
    "##### The 'self' Attribute <br>\n",
    "<p>This attribute is required to keep track of specific instance's attributes. Without the self attribute, the program would not know how to reference or keep track of an instance's attributes.</p>"
   ]
  },
  {
   "cell_type": "code",
   "execution_count": 14,
   "metadata": {},
   "outputs": [
    {
     "name": "stdout",
     "output_type": "stream",
     "text": [
      "self is referencing the object <__main__.pokemon object at 0x000001EA1DDFBE80>, Charmander\n",
      "fire\n",
      "self is referencing the object <__main__.pokemon object at 0x000001EA1DDFB8E0>, Squirtle\n",
      "water\n"
     ]
    }
   ],
   "source": [
    "class pokemon():\n",
    "    def __init__(self, name, type_):\n",
    "        #self is going to hold the place of the object we instantiate\n",
    "        self.name = name #self will become object. (object.name)\n",
    "        self.type_ = type_\n",
    "        print(f\"self is referencing the object {self}, {self.name}\")\n",
    "        print(self.type_)\n",
    "        \n",
    "charmander = pokemon(\"Charmander\", \"fire\")\n",
    "squirtle = pokemon(\"Squirtle\", \"water\")"
   ]
  },
  {
   "cell_type": "markdown",
   "metadata": {},
   "source": [
    "## Class Attributes <br>\n",
    "<p>While variables are inside of a class, they are referred to as attributes and not variables. When someone says 'attribute' you know they're speaking about a class. Attributes can be initialized through the init method, or outside of it.</p>"
   ]
  },
  {
   "cell_type": "markdown",
   "metadata": {},
   "source": [
    "##### Initializing Attributes"
   ]
  },
  {
   "cell_type": "code",
   "execution_count": 16,
   "metadata": {},
   "outputs": [
    {
     "name": "stdout",
     "output_type": "stream",
     "text": [
      "self is referencing the object <__main__.pokemon object at 0x000001EA1DDF7730>, Bulbasaur\n",
      "Grass\n"
     ]
    }
   ],
   "source": [
    "bulbasaur = pokemon(\"Bulbasaur\", \"Grass\")"
   ]
  },
  {
   "cell_type": "markdown",
   "metadata": {},
   "source": [
    "##### Accessing Class Attributes"
   ]
  },
  {
   "cell_type": "code",
   "execution_count": 18,
   "metadata": {
    "scrolled": true
   },
   "outputs": [
    {
     "name": "stdout",
     "output_type": "stream",
     "text": [
      "Bulbasaur\n",
      "Grass\n",
      "{'name': 'Bulbasaur', 'type_': 'Grass'}\n"
     ]
    }
   ],
   "source": [
    "print(bulbasaur.name)\n",
    "print(bulbasaur.type_)\n",
    "print(bulbasaur.__dict__)"
   ]
  },
  {
   "cell_type": "markdown",
   "metadata": {},
   "source": [
    "##### Setting Defaults for Attributes"
   ]
  },
  {
   "cell_type": "code",
   "execution_count": 24,
   "metadata": {},
   "outputs": [
    {
     "name": "stdout",
     "output_type": "stream",
     "text": [
      "Blue\n",
      "4\n"
     ]
    }
   ],
   "source": [
    "class Car():\n",
    "    def __init__(self, wheels):\n",
    "        self.wheels = wheels\n",
    "        self.color = \"Blue\"\n",
    "\n",
    "honda = Car(4)\n",
    "print(honda.color)\n",
    "print(honda.wheels)\n"
   ]
  },
  {
   "cell_type": "code",
   "execution_count": 27,
   "metadata": {},
   "outputs": [
    {
     "name": "stdout",
     "output_type": "stream",
     "text": [
      "Red\n",
      "4\n",
      "\n",
      "\n",
      "blue\n"
     ]
    }
   ],
   "source": [
    "class Car():\n",
    "    def __init__(self, wheels, color = \"Red\"):\n",
    "        self.wheels = wheels\n",
    "        self.color = color\n",
    "\n",
    "ford = Car(4)\n",
    "print(ford.color)\n",
    "print(ford.wheels)\n",
    "print(\"\\n\")\n",
    "mazda = Car(4, \"blue\")\n",
    "print(mazda.color)"
   ]
  },
  {
   "cell_type": "markdown",
   "metadata": {},
   "source": [
    "##### Changing Class Attributes <br>\n",
    "<p>Keep in mind there are global class attributes and then there are attributes only available to each class instance which won't effect other classes.</p>"
   ]
  },
  {
   "cell_type": "code",
   "execution_count": 30,
   "metadata": {},
   "outputs": [
    {
     "name": "stdout",
     "output_type": "stream",
     "text": [
      "4\n",
      "before attribute change Blue\n",
      "after attribute change Red\n"
     ]
    }
   ],
   "source": [
    "class Car():\n",
    "    def __init__(self, wheels):\n",
    "        self.wheels = wheels\n",
    "        self.color = \"Blue\"\n",
    "\n",
    "honda = Car(4)\n",
    "# print(honda.color)\n",
    "print(honda.wheels)\n",
    "#change our default attribute\n",
    "print(f\"before attribute change {honda.color}\")\n",
    "honda.color = \"Red\"\n",
    "print(f\"after attribute change {honda.color}\")"
   ]
  },
  {
   "cell_type": "code",
   "execution_count": null,
   "metadata": {},
   "outputs": [],
   "source": []
  },
  {
   "cell_type": "markdown",
   "metadata": {},
   "source": [
    "##### In-Class Exercise #2 - Add two new attributes to your 'Car' class then print out two different instances with different doors and seats. Then take it to the shop and change those attributes. Either with input or just by changing them"
   ]
  },
  {
   "cell_type": "code",
   "execution_count": 39,
   "metadata": {},
   "outputs": [
    {
     "name": "stdout",
     "output_type": "stream",
     "text": [
      "25\n",
      "120\n",
      "18\n",
      "130\n"
     ]
    }
   ],
   "source": [
    "class Car():\n",
    "    def __init__(self, mpg, max_mph):\n",
    "        self.mpg = mpg\n",
    "        self.max_mph = max_mph\n",
    "\n",
    "ford = Car(25, 120)\n",
    "print(ford.mpg)\n",
    "print(ford.max_mph)\n",
    "ford.mpg = 18\n",
    "ford.max_mph = 130\n",
    "print(ford.mpg)\n",
    "print(ford.max_mph)"
   ]
  },
  {
   "cell_type": "markdown",
   "metadata": {},
   "source": [
    "## Class Methods <br>\n",
    "<p>While inside of a class, functions are referred to as 'methods'. If you hear someone mention methods, they're speaking about classes. Methods are essentially functions, but only callable on the instances of a class.</p>"
   ]
  },
  {
   "cell_type": "markdown",
   "metadata": {},
   "source": [
    "##### Creating"
   ]
  },
  {
   "cell_type": "code",
   "execution_count": 8,
   "metadata": {},
   "outputs": [],
   "source": [
    "class Bus():\n",
    "    \"\"\"\n",
    "    The bus will have doors, seats, seats available, color, and a bus driver\n",
    "    \n",
    "    Attributes for the bus:\n",
    "    -doors: int\n",
    "    -seats: int\n",
    "    -seats_available: int\n",
    "    -color: string\n",
    "    -bus_driver: string\n",
    "    \n",
    "    \"\"\"\n",
    "    def __init__(self, doors, seats, seats_available, color, bus_driver):\n",
    "        self.doors = doors\n",
    "        self.seats = seats\n",
    "        self.seats_available = seats_available\n",
    "        self.color = color\n",
    "        self.bus_driver = bus_driver\n",
    "        \n",
    "    # decrement the number of seats available\n",
    "    def load_passengers(self):\n",
    "        if self.seats_available <= 0:\n",
    "            print(\"This bus is full! We can't take any more passengers.\")\n",
    "            if self.seats_available < 0:\n",
    "                print(f\"You left {abs(self.seats_available)} by the road!\")\n",
    "                self.seats_available = 0\n",
    "        else:\n",
    "            passengers = int(input(\"How many passengers are getting on? \"))\n",
    "            self.seats_available -= passengers\n",
    "            print(f\"{passengers} passengers have boarded. There are {self.seats_available} left on the bus.\")\n",
    "\n",
    "    # increment the number of seats available\n",
    "    def unload_passengers(self):\n",
    "        if self.seats_available >= self.seats:\n",
    "            print(\"There is no one on the bus to unload!\")\n",
    "        else:\n",
    "            unload = int(input(\"How many passengers are getting off the bus? \"))\n",
    "            self.seats_available += unload\n",
    "            if self.seats_available >= self.seats:\n",
    "                self.seats_available = self.seats\n",
    "            print(f\"{unload} passengers have left the bus. There are {self.seats_available} left.\")\n",
    "    \n",
    "    #change the bus_driver attribute\n",
    "    def change_driver(self):\n",
    "        change = input(\"Who is replacing you? \")\n",
    "        self.bus_driver = change\n",
    "        print(f\"The new bus driver is {self.bus_driver}. Be sure to thank them!\")\n",
    "        \n",
    "    #display available seats\n",
    "    def check_seats(self):\n",
    "        print(f\"There are {self.seats_available} seats available\")\n",
    "    \n",
    "    #display bus color\n",
    "    def admire_bus(self):\n",
    "        print(f\"Would ya just look at that beautiful {self.color} bus!\")\n",
    "\n",
    "sam_bus = Bus(2, 90, 45, \"yellow\", \"Sam\")\n"
   ]
  },
  {
   "cell_type": "markdown",
   "metadata": {},
   "source": [
    "##### Calling"
   ]
  },
  {
   "cell_type": "code",
   "execution_count": null,
   "metadata": {},
   "outputs": [
    {
     "name": "stdout",
     "output_type": "stream",
     "text": [
      "What would you like to do? Load/Unload/Change Driver/Check Seats/Admire/Quit? admire\n",
      "Would ya just look at that beautiful yellow bus!\n",
      "What would you like to do? Load/Unload/Change Driver/Check Seats/Admire/Quit? load\n",
      "How many passengers are getting on? 10\n",
      "10 passengers have boarded. There are 35 left on the bus.\n"
     ]
    }
   ],
   "source": [
    "sam_bus = Bus(2, 90, 45, \"yellow\", \"Sam\")\n",
    "\n",
    "def run():\n",
    "    while True:\n",
    "        response = input(\"What would you like to do? Load/Unload/Change Driver/Check Seats/Admire/Quit? \")\n",
    "        if response.lower() == 'quit':\n",
    "            print(\"OH NO! There are still passengers to be picked up. Pls dont abandon them!\")\n",
    "            break\n",
    "        elif response.lower() == 'load':\n",
    "            sam_bus.load_passengers()\n",
    "        elif response.lower() == 'unload':\n",
    "            sam_bus.unload_passengers()\n",
    "        elif response.lower() == 'change driver':\n",
    "            sam_bus.change_driver()\n",
    "        elif response.lower() == 'check seats':\n",
    "            sam_bus.check_seats()\n",
    "        elif response.lower() == 'admire':\n",
    "            sam_bus.admire_bus()\n",
    "        else:\n",
    "            print(\"That is not a valid response. Please print from the list!\")\n",
    "\n",
    "run()"
   ]
  },
  {
   "cell_type": "markdown",
   "metadata": {},
   "source": [
    "##### Modifying an Attribute's Value Through a Method"
   ]
  },
  {
   "cell_type": "code",
   "execution_count": null,
   "metadata": {},
   "outputs": [],
   "source": [
    "# see above\n",
    "# Load_passengers()\n",
    "# unload_passengers()\n",
    "# change_driver()"
   ]
  },
  {
   "cell_type": "markdown",
   "metadata": {},
   "source": [
    "##### Incrementing an Attribute's Value Through a Method"
   ]
  },
  {
   "cell_type": "code",
   "execution_count": null,
   "metadata": {},
   "outputs": [],
   "source": [
    "#unload_passengers()"
   ]
  },
  {
   "cell_type": "markdown",
   "metadata": {},
   "source": [
    "##### In-Class Exercise #3 - Add a method that takes in three parameters of year, doors and seats and prints out a formatted print statement with make, model, year, seats, and doors"
   ]
  },
  {
   "cell_type": "code",
   "execution_count": 12,
   "metadata": {},
   "outputs": [
    {
     "name": "stdout",
     "output_type": "stream",
     "text": [
      "I seem to have forgotten... what is the make of your car again? Ford\n",
      "I seem to have forgotten... what is the model of your car again? Escape\n",
      "Ahh thats right... you have a Ford Escape\n"
     ]
    }
   ],
   "source": [
    "# Create class with 2 paramters inside of the __init__ which are make and model\n",
    "\n",
    "# Create two methods for your class\n",
    "\n",
    "# Create a method that alters an attribute for your class\n",
    "\n",
    "# Display method that prints information about the vehicle\n",
    "\n",
    "# Output: This car is from 2019 and is a Ford Expolorer and has 4 doors and 5 seats\n",
    "\n",
    "#reminder in order to call class methods object.method()\n",
    "\n",
    "# class Car():\n",
    "#     def __init__(self, make, model):\n",
    "#         self.make = make\n",
    "#         self.model = model\n",
    "#         self.year = 2023\n",
    "#         self.door = 2\n",
    "#         self.seats = 2\n",
    "        \n",
    "#     def change_info(self, year, door, seats):\n",
    "#         self.year = year\n",
    "#         self.door = door\n",
    "#         self.seats = seats   \n",
    "    \n",
    "#     def display_info(self):\n",
    "#         print(f\"This car is from {self.year} and is a {self.make} {self.model} and has {self.door} doors and {self.seats} seats\")\n",
    "        \n",
    "        \n",
    "# my_car = Car(\"Ford\", \"Expolorer\")\n",
    "# my_car.change_info(2019, 4 ,5)\n",
    "# my_car.display_info()\n",
    "\n",
    "class Car():\n",
    "    def __init__ (self, make, model):\n",
    "        self.make = make\n",
    "        self.model = model\n",
    "    \n",
    "    def define_make(self):\n",
    "        new_make = input(\"I seem to have forgotten... what is the make of your car again? \")\n",
    "        self.make = new_make\n",
    "        \n",
    "      \n",
    "    def define_model(self):\n",
    "        new_model = input(\"I seem to have forgotten... what is the model of your car again? \")\n",
    "        self.model = new_model\n",
    "        \n",
    "\n",
    "car_1 = Car('Honda', 'Civic')\n",
    "\n",
    "def run():\n",
    "    car_1.define_make()\n",
    "    car_1.define_model()\n",
    "    print(f\"Ahh thats right... you have a {car_1.make} {car_1.model}\")\n",
    "    \n",
    "run()"
   ]
  },
  {
   "cell_type": "markdown",
   "metadata": {},
   "source": [
    "## Inheritance <br>\n",
    "<p>You can create a child-parent relationship between two classes by using inheritance. What this allows you to do is have overriding methods, but also inherit traits from the parent class. Think of it as an actual parent and child, the child will inherit the parent's genes, as will the classes in OOP</p>"
   ]
  },
  {
   "cell_type": "markdown",
   "metadata": {},
   "source": [
    "##### Syntax for Inheriting from a Parent Class"
   ]
  },
  {
   "cell_type": "code",
   "execution_count": 14,
   "metadata": {},
   "outputs": [],
   "source": [
    "#creation of our parent class\n",
    "class Animal():\n",
    "    ACCELERATION = 9.8\n",
    "    def __init__(self, name, species, legs = 4):\n",
    "        self.name = name\n",
    "        self.species = species\n",
    "        self.legs = legs\n",
    "        \n",
    "    #generic parent method\n",
    "    def make_sounds(self):\n",
    "        print(\"REEEEEEE\")\n",
    "        \n",
    "class Dog(Animal):\n",
    "    SPEED = 15\n",
    "    \n",
    "    def print_info(self):\n",
    "        print(f\"{self.name} runs at {self.SPEED} mph and accelerates at {self.ACCELERATION} mps^2\")\n",
    "\n",
    "#creation of the grandchild class\n",
    "class Mutt(Dog):\n",
    "    COLOR = \"Light Brown\"\n",
    "    \n",
    "    #Access the Animal init class trhough the Dog class\n",
    "    def __init__(self, name, species, eye_color, legs = 4):\n",
    "        Dog.__init__(self, name, species, legs)\n",
    "        self.eye_color = eye_color\n",
    "        \n",
    "    #override the make_sounds method\n",
    "    def make_sounds(self):\n",
    "        print(\"arooooo\")"
   ]
  },
  {
   "cell_type": "code",
   "execution_count": 22,
   "metadata": {},
   "outputs": [
    {
     "name": "stdout",
     "output_type": "stream",
     "text": [
      "9.8\n",
      "Greg\n",
      "REEEEEEE\n"
     ]
    }
   ],
   "source": [
    "#instantiating and access the parent class\n",
    "elephant = Animal('Greg', 'elephant')\n",
    "print(elephant.ACCELERATION)\n",
    "print(elephant.name)\n",
    "elephant.make_sounds()\n",
    "# print(elephant.speed) <-- doesnt work because Animal does not have access to speed"
   ]
  },
  {
   "cell_type": "code",
   "execution_count": 18,
   "metadata": {},
   "outputs": [
    {
     "name": "stdout",
     "output_type": "stream",
     "text": [
      "precious runs at 15 mph and accelerates at 9.8 mps^2\n",
      "15\n",
      "4\n"
     ]
    }
   ],
   "source": [
    "#instatiating and access the child class with parent attributes\n",
    "maltese = Dog(\"precious\", \"Maltese\")\n",
    "maltese.print_info()\n",
    "print(maltese.SPEED)\n",
    "print(maltese.legs)"
   ]
  },
  {
   "cell_type": "code",
   "execution_count": 25,
   "metadata": {},
   "outputs": [
    {
     "name": "stdout",
     "output_type": "stream",
     "text": [
      "arooooo\n",
      "Kiwi runs at 15 mph and accelerates at 9.8 mps^2\n",
      "Brown\n",
      "Brown\n"
     ]
    }
   ],
   "source": [
    "kiwi = Mutt(\"Kiwi\", \"Dog\", \"Brown\")\n",
    "kiwi.make_sounds()\n",
    "kiwi.print_info()\n",
    "print(kiwi.eye_color)\n",
    "kiwi.COLOR = \"Brown\"\n",
    "\n",
    "print(kiwi.COLOR)"
   ]
  },
  {
   "cell_type": "markdown",
   "metadata": {},
   "source": [
    "##### The \\__init\\__() Method for a Child Class - super()"
   ]
  },
  {
   "cell_type": "code",
   "execution_count": 31,
   "metadata": {
    "scrolled": true
   },
   "outputs": [
    {
     "name": "stdout",
     "output_type": "stream",
     "text": [
      "Eyo runs at 15 mph and accelerates at 9.8 mps^2\n",
      "9.8\n"
     ]
    }
   ],
   "source": [
    "class Mutt(Dog):\n",
    "    COLOR = \"Light Brown\"\n",
    "    \n",
    "    #Access the Animal init class trhough the Dog class\n",
    "    def __init__(self, name, species, eye_color, legs = 4):\n",
    "        Dog.__init__(self, name, species, legs)\n",
    "        self.eye_color = eye_color\n",
    "        \n",
    "    #override the make_sounds method\n",
    "    def make_sounds(self):\n",
    "        print(\"arooooo\")\n",
    "        \n",
    "        \n",
    "eyo = Mutt(\"Eyo\", \"Dog\", \"Brown\")\n",
    "eyo.print_info()\n",
    "print(eyo.ACCELERATION)"
   ]
  },
  {
   "cell_type": "markdown",
   "metadata": {},
   "source": [
    "##### Defining Attributes and Methods for the Child Class"
   ]
  },
  {
   "cell_type": "code",
   "execution_count": null,
   "metadata": {},
   "outputs": [],
   "source": [
    "# See Above"
   ]
  },
  {
   "cell_type": "markdown",
   "metadata": {},
   "source": [
    "##### Method Overriding"
   ]
  },
  {
   "cell_type": "code",
   "execution_count": null,
   "metadata": {},
   "outputs": [],
   "source": [
    "# See Above"
   ]
  },
  {
   "cell_type": "markdown",
   "metadata": {},
   "source": [
    "## Classes as Attributes <br>\n",
    "<p>Classes can also be used as attributes within another class. This is useful in situations where you need to keep variables locally stored, instead of globally stored.</p>"
   ]
  },
  {
   "cell_type": "code",
   "execution_count": 38,
   "metadata": {},
   "outputs": [
    {
     "name": "stdout",
     "output_type": "stream",
     "text": [
      "{'cells': 20}\n",
      "20\n",
      "2022 Tesla Model S 20\n"
     ]
    }
   ],
   "source": [
    "class Battery():\n",
    "    VOLTZ = 7.8\n",
    "    \n",
    "    def __init__(self, cells):\n",
    "        self.cells = cells\n",
    "        \n",
    "class Car():\n",
    "    def __init__(self, year, make, model, battery):\n",
    "        self.year = year\n",
    "        self.make = make\n",
    "        self.model = model\n",
    "        self.battery = battery\n",
    "        \n",
    "    def print_info(self):\n",
    "        print(f\"{self.year} {self.make} {self.model} {self.battery.cells}\")\n",
    "        \n",
    "battery = Battery(20)\n",
    "\n",
    "tesla = Car(2022, \"Tesla\", \"Model S\", battery)\n",
    "\n",
    "print(tesla.battery.__dict__)\n",
    "print(tesla.battery.cells)\n",
    "\n",
    "tesla.print_info()"
   ]
  },
  {
   "cell_type": "markdown",
   "metadata": {},
   "source": [
    "# Exercises"
   ]
  },
  {
   "cell_type": "markdown",
   "metadata": {},
   "source": [
    "### Exercise 1 - Turn the shopping cart program from yesterday into an object-oriented program\n",
    "\n",
    "The comments in the cell below are there as a guide for thinking about the problem. However, if you feel a different way is best for you and your own thought process, please do what feels best for you by all means."
   ]
  },
  {
   "cell_type": "code",
   "execution_count": null,
   "metadata": {},
   "outputs": [
    {
     "name": "stdout",
     "output_type": "stream",
     "text": [
      "Enter an item to add, 'remove' to remove an item, 'view' to view the list, 'quit' to exit: 3 eggs\n",
      "3 eggs has been added to the cart.\n",
      "Enter an item to add, 'remove' to remove an item, 'view' to view the list, 'quit' to exit: 2 bananas\n",
      "2 bananas has been added to the cart.\n",
      "Enter an item to add, 'remove' to remove an item, 'view' to view the list, 'quit' to exit: a bag of flour\n",
      "a bag of flour has been added to the cart.\n",
      "Enter an item to add, 'remove' to remove an item, 'view' to view the list, 'quit' to exit: a bag of sugar\n",
      "a bag of sugar has been added to the cart.\n",
      "Enter an item to add, 'remove' to remove an item, 'view' to view the list, 'quit' to exit: remove\n",
      "What item do you want to remove? a bag of flour\n",
      "a bag of flour has been removed from the cart.\n",
      "Enter an item to add, 'remove' to remove an item, 'view' to view the list, 'quit' to exit: view\n",
      "Shopping List:\n",
      "3 eggs\n",
      "2 bananas\n",
      "a bag of sugar\n"
     ]
    }
   ],
   "source": [
    "# Create a class called cart that retains items and has methods to add, remove, and show\n",
    "# reference bus\n",
    "\n",
    "class Cart:\n",
    "    def __init__(self):\n",
    "        self.items = []\n",
    "\n",
    "    def add_item(self, item):\n",
    "        self.items.append(item)\n",
    "        \n",
    "        print(f'{item} has been added to the cart.')\n",
    "\n",
    "    def remove_item(self, item):\n",
    "        self.items.remove(item)\n",
    "        print(f'{item} has been removed from the cart.')\n",
    "\n",
    "    def view_cart(self):\n",
    "        print('Shopping List:')\n",
    "        for item in self.items:\n",
    "            print(item)\n",
    "\n",
    "cart = Cart()\n",
    "\n",
    "while True:\n",
    "    user_input = input(\"Enter an item to add, 'remove' to remove an item, 'view' to view the list, 'quit' to exit: \")\n",
    "    if user_input.lower().strip() == 'quit':\n",
    "        break\n",
    "    elif user_input.lower().strip() == 'view':\n",
    "        cart.view_cart()\n",
    "    elif user_input.lower().strip() == 'remove':\n",
    "        item_to_remove = input(\"What item do you want to remove? \")\n",
    "        cart.remove_item(item_to_remove)\n",
    "    else:\n",
    "        cart.add_item(user_input)\n"
   ]
  },
  {
   "cell_type": "markdown",
   "metadata": {},
   "source": [
    "### Exercise 2 - Write a Python class which has two methods get_String and print_String. get_String accept a string from the user and print_String print the string in upper case"
   ]
  },
  {
   "cell_type": "code",
   "execution_count": 1,
   "metadata": {},
   "outputs": [
    {
     "name": "stdout",
     "output_type": "stream",
     "text": [
      "Enter a string: hey dude\n",
      "HEY DUDE\n"
     ]
    }
   ],
   "source": [
    "class get_print:\n",
    "    def __init__(self):\n",
    "        self.string = \"\"\n",
    "\n",
    "    def get_string(self):\n",
    "        self.string = input(\"Enter a string: \")\n",
    "\n",
    "    def print_string(self):\n",
    "        print(self.string.upper())\n",
    "        \n",
    "getprint = get_print()\n",
    "getprint.get_string()\n",
    "getprint.print_string()"
   ]
  }
 ],
 "metadata": {
  "kernelspec": {
   "display_name": "Python 3 (ipykernel)",
   "language": "python",
   "name": "python3"
  },
  "language_info": {
   "codemirror_mode": {
    "name": "ipython",
    "version": 3
   },
   "file_extension": ".py",
   "mimetype": "text/x-python",
   "name": "python",
   "nbconvert_exporter": "python",
   "pygments_lexer": "ipython3",
   "version": "3.9.13"
  }
 },
 "nbformat": 4,
 "nbformat_minor": 2
}
